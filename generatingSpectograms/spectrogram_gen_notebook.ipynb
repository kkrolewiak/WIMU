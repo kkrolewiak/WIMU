{
 "cells": [
  {
   "cell_type": "code",
   "execution_count": 1,
   "metadata": {},
   "outputs": [],
   "source": [
    "import random\n",
    "import subprocess\n",
    "import numpy as np\n",
    "import pandas as pd\n",
    "\n",
    "pd.options.mode.chained_assignment = None # supress warning"
   ]
  },
  {
   "cell_type": "code",
   "execution_count": 2,
   "metadata": {},
   "outputs": [],
   "source": [
    "# List of MIDI intruments\n",
    "tags = [0, 24, 48, 72, 8, 32, 56, 80, 16, 40, 64, 88]\n",
    "midi_instruments = [\n",
    "    \"Acoustic Grand Piano\",  # 0\n",
    "    \"Nylon Acoustic Guitar\",  # 24\n",
    "    \"String Ensemble 1\",  # 48\n",
    "    \"Piccolo\",  # 72\n",
    "    \"Celesta\",  # 8\n",
    "    \"Acoustic Bass\",  # 32\n",
    "    \"Trumpet\",  # 56\n",
    "    \"Square Wave Lead\",  # 80\n",
    "    \"Hammond Organ\",  # 16\n",
    "    \"Violin\",  # 40\n",
    "    \"Soprano Sax\",  # 64\n",
    "    \"New Age Pad\"  # 88\n",
    "]"
   ]
  },
  {
   "cell_type": "code",
   "execution_count": 3,
   "metadata": {},
   "outputs": [],
   "source": [
    "column_names = ['fname'] + midi_instruments\n",
    "num_rows = 10000\n",
    "\n",
    "data = np.zeros((num_rows, len(column_names)), dtype=int) \n",
    "df = pd.DataFrame(data, columns=column_names)\n",
    "\n",
    "df['fname'] = df['fname'].astype(\"string\")"
   ]
  },
  {
   "cell_type": "code",
   "execution_count": 4,
   "metadata": {},
   "outputs": [
    {
     "name": "stdout",
     "output_type": "stream",
     "text": [
      "MIDI file has been saved: temp.mid\n",
      "Generating spectrogram for temp.wav...\n",
      "Spectrogram saved to output/spectrogram/spectrogram0.png\n",
      "MIDI file has been saved: temp.mid\n",
      "Generating spectrogram for temp.wav...\n",
      "Spectrogram saved to output/spectrogram/spectrogram1.png\n",
      "MIDI file has been saved: temp.mid\n",
      "Generating spectrogram for temp.wav...\n",
      "Spectrogram saved to output/spectrogram/spectrogram2.png\n",
      "MIDI file has been saved: temp.mid\n",
      "Generating spectrogram for temp.wav...\n",
      "Spectrogram saved to output/spectrogram/spectrogram3.png\n",
      "MIDI file has been saved: temp.mid\n",
      "Generating spectrogram for temp.wav...\n",
      "Spectrogram saved to output/spectrogram/spectrogram4.png\n",
      "MIDI file has been saved: temp.mid\n",
      "Generating spectrogram for temp.wav...\n",
      "Spectrogram saved to output/spectrogram/spectrogram5.png\n",
      "MIDI file has been saved: temp.mid\n",
      "Generating spectrogram for temp.wav...\n",
      "Spectrogram saved to output/spectrogram/spectrogram6.png\n",
      "MIDI file has been saved: temp.mid\n",
      "Generating spectrogram for temp.wav...\n",
      "Spectrogram saved to output/spectrogram/spectrogram7.png\n",
      "MIDI file has been saved: temp.mid\n",
      "Generating spectrogram for temp.wav...\n",
      "Spectrogram saved to output/spectrogram/spectrogram8.png\n",
      "MIDI file has been saved: temp.mid\n",
      "Generating spectrogram for temp.wav...\n",
      "Spectrogram saved to output/spectrogram/spectrogram9.png\n"
     ]
    }
   ],
   "source": [
    "for i in range(0, num_rows):\n",
    "    fname = \"spectrogram\" + str(i)\n",
    "    selected_tags = random.sample(range(0, len(tags)), random.randint(1, 4))\n",
    "    command = [ \"python3\", \"script.py\", \n",
    "                \"--fname\", fname,\n",
    "                #\"--save_wav\",\n",
    "                \"--resolution\", \"512, 10, 10\",\n",
    "                \"--soundfont\", \"../FluidR3_GM.sf2\",\n",
    "                \"--instruments\"\n",
    "            ] + list(map(str, [tags[t] for t in selected_tags]))\n",
    "    try:\n",
    "        subprocess.run(command, check=True)\n",
    "    except subprocess.CalledProcessError as e:\n",
    "        print(f\"Error generating example {i}: {e}\")\n",
    "\n",
    "    for t in selected_tags:\n",
    "        df[midi_instruments[t]][i] = 1\n",
    "    df[\"fname\"][i] = fname"
   ]
  },
  {
   "cell_type": "code",
   "execution_count": 5,
   "metadata": {},
   "outputs": [],
   "source": [
    "df.to_csv(\"annotation.csv\")"
   ]
  }
 ],
 "metadata": {
  "kernelspec": {
   "display_name": "Python 3",
   "language": "python",
   "name": "python3"
  },
  "language_info": {
   "codemirror_mode": {
    "name": "ipython",
    "version": 3
   },
   "file_extension": ".py",
   "mimetype": "text/x-python",
   "name": "python",
   "nbconvert_exporter": "python",
   "pygments_lexer": "ipython3",
   "version": "3.10.12"
  }
 },
 "nbformat": 4,
 "nbformat_minor": 2
}
